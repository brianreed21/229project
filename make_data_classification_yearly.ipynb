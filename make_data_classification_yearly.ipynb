{
 "cells": [
  {
   "cell_type": "code",
   "execution_count": 4,
   "metadata": {},
   "outputs": [],
   "source": [
    "import pandas as pd\n",
    "import numpy as np\n",
    "import pickle\n",
    "from matplotlib import pyplot as plt\n",
    "import networkx as nx\n",
    "from networkx.algorithms.approximation.clustering_coefficient import average_clustering\n",
    "import seaborn as sns\n",
    "from sklearn.linear_model import LogisticRegression\n",
    "from node2vec import Node2Vec\n",
    "\n",
    "# from parser_br_comps import BSiParser "
   ]
  },
  {
   "cell_type": "markdown",
   "metadata": {},
   "source": [
    "# 1. Load the data\n",
    "## Transactions Data - Load"
   ]
  },
  {
   "cell_type": "code",
   "execution_count": 32,
   "metadata": {},
   "outputs": [
    {
     "name": "stdout",
     "output_type": "stream",
     "text": [
      "(2956956, 10)\n"
     ]
    }
   ],
   "source": [
    "folder = '/dfs/scratch2/palovics/shared/'\n",
    "transactions = pd.read_pickle(folder + '/data.pkl') # data_final = pd.read_pickle(folder + '/data_withInd.pkl')\n",
    "transactions = transactions.drop_duplicates()\n",
    "\n",
    "metadata = pickle.load(open(folder + 'meta_data.pkl', \"rb\"))\n",
    "metadata = metadata.reset_index().rename({'index': 'name'}, axis='columns')\n",
    "skds = pd.read_csv(folder + 'skd.tsv', sep='\\t')\n",
    "print(transactions.shape)"
   ]
  },
  {
   "cell_type": "markdown",
   "metadata": {},
   "source": [
    "## subset for the domestic, non-fin/non-govt"
   ]
  },
  {
   "cell_type": "code",
   "execution_count": 34,
   "metadata": {},
   "outputs": [
    {
     "name": "stdout",
     "output_type": "stream",
     "text": [
      "(2956956, 10)\n",
      "(859423, 10)\n"
     ]
    },
    {
     "name": "stderr",
     "output_type": "stream",
     "text": [
      "/lfs/trinity/0/brian/Anaconda/lib/python3.7/site-packages/ipykernel_launcher.py:18: SettingWithCopyWarning: \n",
      "A value is trying to be set on a copy of a slice from a DataFrame.\n",
      "Try using .loc[row_indexer,col_indexer] = value instead\n",
      "\n",
      "See the caveats in the documentation: http://pandas.pydata.org/pandas-docs/stable/indexing.html#indexing-view-versus-copy\n"
     ]
    },
    {
     "name": "stdout",
     "output_type": "stream",
     "text": [
      "(845067, 11)\n"
     ]
    },
    {
     "data": {
      "text/plain": [
       "\"graph = graph_preagg.groupby(['source','target']).sum().reset_index()[['source','target','amount']]\\ngraph.columns = ['source','target','weight']\\n\\ngraph=graph.set_index('year')\\nprint(graph.shape)\""
      ]
     },
     "execution_count": 34,
     "metadata": {},
     "output_type": "execute_result"
    }
   ],
   "source": [
    "skdl2 = skds[skds.Level == 2].copy()\n",
    "skdl2.Code = skdl2.Code.astype(int)\n",
    "metadata = metadata.merge(\n",
    "    skdl2[['Code', 'Parrent code']].rename({'Parrent code': 'skdl1'}, axis='columns'),\n",
    "    left_on='skdl2', right_on='Code')\n",
    "companies_withMetaData = metadata['name']\n",
    "\n",
    "filter_a = (transactions['source_country'] == 'SI') & (transactions['target_country'] == 'SI')\n",
    "filter_b = (~transactions['source_gov']) & (~transactions['target_gov'])\n",
    "filter_c = (~transactions['source_financial']) & (~transactions['target_financial'])\n",
    "filter_d = ((transactions['source'].isin(companies_withMetaData)) & (transactions['target'].isin(companies_withMetaData))) \n",
    "\n",
    "\n",
    "# don't just subset for single instances\n",
    "print(transactions.shape)\n",
    "transactions_filtered = transactions[filter_a & filter_b & filter_c ]# & filter_d]\n",
    "print(transactions_filtered.shape)\n",
    "transactions_filtered['year'] = pd.DatetimeIndex(pd.to_datetime(transactions_filtered['time'], unit='s')).year\n",
    "transactions_filtered = transactions_filtered[transactions_filtered['year'] >= 2008]\n",
    "print(transactions_filtered.shape)\n",
    "graph = transactions_filtered[['source','target','amount','year']].drop_duplicates()\n",
    "'''graph = graph_preagg.groupby(['source','target']).sum().reset_index()[['source','target','amount']]\n",
    "graph.columns = ['source','target','weight']\n",
    "\n",
    "graph=graph.set_index('year')\n",
    "print(graph.shape)'''\n"
   ]
  },
  {
   "cell_type": "code",
   "execution_count": 35,
   "metadata": {},
   "outputs": [
    {
     "name": "stdout",
     "output_type": "stream",
     "text": [
      "Index(['name', 'dtime', 'default', 'skis', 'skd', 'skisl2', 'skdl2',\n",
      "       'financial', 'gov', 'Code', 'skdl1'],\n",
      "      dtype='object')\n"
     ]
    }
   ],
   "source": [
    "## get the descriptions we need here"
   ]
  },
  {
   "cell_type": "markdown",
   "metadata": {},
   "source": [
    "## 2. Get Node Dataset"
   ]
  },
  {
   "cell_type": "code",
   "execution_count": 113,
   "metadata": {},
   "outputs": [],
   "source": [
    "data = graph.copy()\n",
    "networks = {}\n",
    "\n",
    "for year in np.unique(data[\"year\"]):  \n",
    "    dir_graph   = nx.from_pandas_edgelist(data[data[\"year\"]==year],create_using=nx.DiGraph())\n",
    "    undir_graph = nx.from_pandas_edgelist(data[data[\"year\"]==year])\n",
    "\n",
    "    \n",
    "    # make a new dataset of identifiers for individual firms\n",
    "    firm_identifiers = pd.DataFrame()\n",
    "\n",
    "    # get node attributes\n",
    "    in_degrees = [val for (node,val) in dir_graph.in_degree()]\n",
    "    out_degrees = [val for (node,val) in dir_graph.out_degree()]\n",
    "    nodes = list(dir_graph.nodes())\n",
    "\n",
    "    # and put in the dataset\n",
    "    firm_identifiers['names'] = nodes\n",
    "    firm_identifiers['in_deg'] = in_degrees\n",
    "    firm_identifiers['out_deg'] = out_degrees\n",
    "    \n",
    "    clusters = nx.clustering(undir_graph).values()\n",
    "    centrals = nx.pagerank(undir_graph).values()\n",
    "    \n",
    "    firm_identifiers['clusters'] = clusters\n",
    "    firm_identifiers['centrals'] = centrals\n",
    "    firm_identifiers['year']     = year\n",
    "    networks[year] = firm_identifiers\n",
    "    "
   ]
  },
  {
   "cell_type": "code",
   "execution_count": 114,
   "metadata": {},
   "outputs": [],
   "source": [
    "all_years = [networks[2008],networks[2009],networks[2009],networks[2010],\n",
    "            networks[2011],networks[2012],networks[2013],networks[2014],\n",
    "            networks[2015],networks[2016],networks[2017]]\n",
    "\n",
    "all_firm_info = pd.concat(all_years)"
   ]
  },
  {
   "cell_type": "markdown",
   "metadata": {},
   "source": [
    "Graph is here all unique source-target dyads. We can use this to construct our new dataset."
   ]
  },
  {
   "cell_type": "markdown",
   "metadata": {},
   "source": [
    "## Now put in firm embeddings"
   ]
  },
  {
   "cell_type": "code",
   "execution_count": 16,
   "metadata": {},
   "outputs": [
    {
     "name": "stderr",
     "output_type": "stream",
     "text": [
      "Computing transition probabilities: 100%|██████████| 13048/13048 [00:46<00:00, 281.89it/s]\n",
      "Generating walks (CPU: 1): 100%|██████████| 100/100 [04:59<00:00,  3.11s/it]\n",
      "Computing transition probabilities: 100%|██████████| 10754/10754 [00:28<00:00, 375.00it/s]\n",
      "Generating walks (CPU: 1): 100%|██████████| 100/100 [04:05<00:00,  2.15s/it]\n",
      "Computing transition probabilities: 100%|██████████| 10448/10448 [00:23<00:00, 442.09it/s]\n",
      "Generating walks (CPU: 1): 100%|██████████| 100/100 [03:01<00:00,  1.87s/it]\n",
      "Computing transition probabilities: 100%|██████████| 10268/10268 [00:24<00:00, 419.45it/s]\n",
      "Generating walks (CPU: 1): 100%|██████████| 100/100 [03:28<00:00,  1.87s/it]\n",
      "Computing transition probabilities: 100%|██████████| 9502/9502 [00:25<00:00, 379.55it/s]\n",
      "Generating walks (CPU: 1): 100%|██████████| 100/100 [03:12<00:00,  1.67s/it]\n",
      "Computing transition probabilities: 100%|██████████| 8728/8728 [00:21<00:00, 399.43it/s]\n",
      "Generating walks (CPU: 1): 100%|██████████| 100/100 [03:07<00:00,  1.93s/it]\n",
      "Computing transition probabilities: 100%|██████████| 9284/9284 [00:23<00:00, 401.98it/s]\n",
      "Generating walks (CPU: 1): 100%|██████████| 100/100 [02:59<00:00,  1.86s/it]\n",
      "Computing transition probabilities: 100%|██████████| 9772/9772 [00:22<00:00, 425.66it/s]\n",
      "Generating walks (CPU: 1): 100%|██████████| 100/100 [03:12<00:00,  2.23s/it]\n",
      "Computing transition probabilities: 100%|██████████| 10552/10552 [00:27<00:00, 383.81it/s]\n",
      "Generating walks (CPU: 1): 100%|██████████| 100/100 [03:21<00:00,  1.91s/it]\n",
      "Computing transition probabilities: 100%|██████████| 11366/11366 [00:32<00:00, 348.59it/s]\n",
      "Generating walks (CPU: 1): 100%|██████████| 100/100 [04:17<00:00,  2.61s/it]\n",
      "Computing transition probabilities: 100%|██████████| 6960/6960 [00:14<00:00, 492.58it/s]\n",
      "Generating walks (CPU: 1): 100%|██████████| 100/100 [01:42<00:00,  1.01s/it]\n"
     ]
    }
   ],
   "source": [
    "# make one of these node2vec things for each year and stash it\n",
    "embeddings = {}\n",
    "for year in np.unique(data[\"year\"]):\n",
    "    # Learn embeddings following this towards data science tutorial: https://towardsdatascience.com/node2vec-embeddings-for-graph-data-32a866340fef\n",
    "    dir_graph   = nx.from_pandas_edgelist(data[data[\"year\"]==year],create_using=nx.DiGraph())\n",
    "\n",
    "    # Generate walks\n",
    "    node2vec = Node2Vec(dir_graph, dimensions=20, walk_length=16, num_walks=100)\n",
    "    model = node2vec.fit(window=10, min_count=1)\n",
    "    embeddings[year] = model"
   ]
  },
  {
   "cell_type": "code",
   "execution_count": 17,
   "metadata": {},
   "outputs": [],
   "source": [
    "with open('node2vec_embeddings_yearly.pickle', 'wb') as node2vec_embeddings_yearly:\n",
    "    pickle.dump(embeddings, node2vec_embeddings_yearly, protocol=pickle.HIGHEST_PROTOCOL)\n"
   ]
  },
  {
   "cell_type": "code",
   "execution_count": 22,
   "metadata": {},
   "outputs": [
    {
     "name": "stdout",
     "output_type": "stream",
     "text": [
      "{2008: <gensim.models.word2vec.Word2Vec object at 0x7f38303beba8>, 2009: <gensim.models.word2vec.Word2Vec object at 0x7f3984c4d518>, 2010: <gensim.models.word2vec.Word2Vec object at 0x7f383cde51d0>, 2011: <gensim.models.word2vec.Word2Vec object at 0x7f383c9e1470>, 2012: <gensim.models.word2vec.Word2Vec object at 0x7f382e362128>, 2013: <gensim.models.word2vec.Word2Vec object at 0x7f382e2c4f60>, 2014: <gensim.models.word2vec.Word2Vec object at 0x7f384993e400>, 2015: <gensim.models.word2vec.Word2Vec object at 0x7f38326f6400>, 2016: <gensim.models.word2vec.Word2Vec object at 0x7f3834a4f080>, 2017: <gensim.models.word2vec.Word2Vec object at 0x7f383d6f7a20>, 2018: <gensim.models.word2vec.Word2Vec object at 0x7f383230c8d0>}\n"
     ]
    }
   ],
   "source": [
    "# Load data (deserialize)\n",
    "with open('node2vec_embeddings_yearly.pickle', 'rb') as node2vec_embeddings:\n",
    "    node2vec_embeddings = pickle.load(node2vec_embeddings)\n",
    "print(node2vec_embeddings)"
   ]
  },
  {
   "cell_type": "code",
   "execution_count": 18,
   "metadata": {},
   "outputs": [
    {
     "name": "stdout",
     "output_type": "stream",
     "text": [
      "(0, 0)\n"
     ]
    }
   ],
   "source": [
    "embeddings = pd.DataFrame()#np.empty((all_firms.shape[0],22))\n",
    "print(embeddings.shape)\n",
    "embeddings.loc[:,'firm'] = all_firms.loc[:,'firm']\n",
    "embeddings.loc[:,'year'] = all_firms.loc[:,'year']\n",
    "\n",
    "for i in range(20):\n",
    "    name = 'firm_emb_' + str(i)\n",
    "    embeddings.loc[:,name] = 0"
   ]
  },
  {
   "cell_type": "code",
   "execution_count": 21,
   "metadata": {},
   "outputs": [
    {
     "name": "stdout",
     "output_type": "stream",
     "text": [
      "<_io.BufferedWriter name='node2vec_embeddings_yearly.pickle'>\n"
     ]
    }
   ],
   "source": [
    "print(node2vec_embeddings_yearly)"
   ]
  },
  {
   "cell_type": "code",
   "execution_count": 23,
   "metadata": {},
   "outputs": [
    {
     "name": "stderr",
     "output_type": "stream",
     "text": [
      "/lfs/trinity/0/brian/Anaconda/lib/python3.7/site-packages/ipykernel_launcher.py:2: DeprecationWarning: Call to deprecated `__getitem__` (Method will be removed in 4.0.0, use self.wv.__getitem__() instead).\n",
      "  \n"
     ]
    }
   ],
   "source": [
    "for i in range(embeddings.shape[0]):\n",
    "    embeddings.loc[i,2:22] = node2vec_embeddings[embeddings.loc[i,'year']][embeddings.loc[i,'firm']]"
   ]
  },
  {
   "cell_type": "code",
   "execution_count": 24,
   "metadata": {},
   "outputs": [],
   "source": [
    "embeddings.to_pickle('allGraph_embeddings_table_yearly.pkl')"
   ]
  },
  {
   "cell_type": "code",
   "execution_count": 112,
   "metadata": {},
   "outputs": [
    {
     "name": "stdout",
     "output_type": "stream",
     "text": [
      "                                   firm  year  firm_emb_0  firm_emb_1  \\\n",
      "0       4vy/KO6/HbcIRBxuF7cQkEqlqWS5zfa  2012   -0.009318   -0.020780   \n",
      "1       Ompokzt6Vla4rjRk3KEDBWz2g5nB8s6  2008    1.895226   -2.698637   \n",
      "2       Qz9fa1u8Bhx90tCa93se6/FVvYaks5m  2016    0.270055    0.061731   \n",
      "3       kcQpOUBW2Ydf64B6JTGFEOTt9xyUpzW  2012    2.195605    0.988822   \n",
      "4       .9XlbUivZWnp0Sf2l8I2TjXExKI6SrO  2015   -0.655221    0.325541   \n",
      "5       .9XlbUivZWnp0Sf2l8I2TjXExKI6SrO  2016   -0.351116    2.028238   \n",
      "6       .gehy.5So2iECtqEEP.mWmDhXS1Chiu  2013   -0.480325   -1.438325   \n",
      "7       /cbE1jAM//3hCIfrk.vHRmFLmLG73ga  2017    3.157319    0.925827   \n",
      "8       0D4OAQPFUrHpchtvpYMuXPHdTKiqceq  2011    0.015911   -0.021058   \n",
      "9       1hC0v845KZ.T5.BD2mcbb0ziagQohHi  2012   -1.227352    0.125358   \n",
      "10      2e51ol2w86okQbABB3tf9/hJ8tSLNLS  2009    0.017948   -0.013580   \n",
      "11      2e51ol2w86okQbABB3tf9/hJ8tSLNLS  2011    0.017948   -0.013580   \n",
      "12      5shJlRvjcybJ.Fuyi1foXhKHe2SPtjy  2012    0.801262    2.040769   \n",
      "13      Be/bfxAwC4RSB1hycl3HZMDE/9KC44a  2011   -0.007298   -0.023928   \n",
      "14      Be/bfxAwC4RSB1hycl3HZMDE/9KC44a  2012   -0.007298   -0.023928   \n",
      "15      H7.EwWdBfWxH1Uy774ViXWZOrcj4NHq  2012   -0.128164    0.226319   \n",
      "16      H7.EwWdBfWxH1Uy774ViXWZOrcj4NHq  2011    1.115320   -0.821309   \n",
      "17      Ji/FQowpnjfZtC2RF3eojjH0sGfU4Qm  2013    0.039576   -0.096183   \n",
      "18      LE0DrYOIjlsVBXsnrouInv6TuJJQKF6  2012    0.012789    0.002413   \n",
      "19      Oms01na9z8MUjaNYcGUwdFhQO2Hmuvm  2011    0.002517    0.011140   \n",
      "20      PyYzaKmmY7bkZzQmLYy19ME4/gcsDcK  2013   -0.335791   -0.033459   \n",
      "21      QdUsHBwAYhtVVHw.CH2zxTSF6oiWrty  2011   -0.009760   -0.016898   \n",
      "22      Qkq/i3w32g.P6x3yUD96vSDWnQGc0eq  2012   -0.015791   -0.015827   \n",
      "23      Qx.ikgY9oFLAV3mbYMR05M/LM4rdOAu  2012    0.021617   -0.024930   \n",
      "24      Qz9fa1u8Bhx90tCa93se6/FVvYaks5m  2013    1.547176    0.569247   \n",
      "25      Qz9fa1u8Bhx90tCa93se6/FVvYaks5m  2012    2.272387    0.415689   \n",
      "26      RCpEJyExivekVto7GNNUnT.5ncnqcd2  2011    0.180731   -2.500581   \n",
      "27      RCpEJyExivekVto7GNNUnT.5ncnqcd2  2012   -1.109684    1.033569   \n",
      "28      Rjo/9dLbg7..3NuTe8fkiXm8hDiWy7.  2014   -1.166344   -1.023410   \n",
      "29      bxVTSSJ3eH7wVv9Gmpc2w6egnrDUXe.  2012   -0.003116    0.010937   \n",
      "...                                 ...   ...         ...         ...   \n",
      "110652  ztpOZkpLlO57/alNi.h7hs3OQIUt54m  2009   -0.582297    0.138611   \n",
      "110653  ztx.HDy8SntfsWcx8Fjiwfes9WqXyti  2016    0.379575   -0.008705   \n",
      "110654  ztx.HDy8SntfsWcx8Fjiwfes9WqXyti  2009   -0.563241    0.140657   \n",
      "110655  ztx.HDy8SntfsWcx8Fjiwfes9WqXyti  2008    0.892354    1.188444   \n",
      "110656  zu1ATNOCFg0sPMoihuf34oDCornxXWi  2015    0.167001   -0.355311   \n",
      "110657  zu1ATNOCFg0sPMoihuf34oDCornxXWi  2017    0.634053    0.203156   \n",
      "110658  zu1ATNOCFg0sPMoihuf34oDCornxXWi  2012    0.704455    0.118179   \n",
      "110659  zu1ATNOCFg0sPMoihuf34oDCornxXWi  2016    0.399599   -0.148056   \n",
      "110660  zu1ATNOCFg0sPMoihuf34oDCornxXWi  2011    0.060150   -0.395326   \n",
      "110661  zu1ATNOCFg0sPMoihuf34oDCornxXWi  2018   -0.517880   -0.714680   \n",
      "110662  zuJnNvAkDJp5oHoXTAZ4K.2LfWLEq9O  2008    0.065077   -0.011196   \n",
      "110663  zuWuZ6OwSl33LA.ieovL7t/c2O1j78e  2009   -0.235206    0.036009   \n",
      "110664  zuhbFgPLKlWahPqgfh3vXjA/JZAt7JS  2012    0.136233    0.067894   \n",
      "110665  zuhbFgPLKlWahPqgfh3vXjA/JZAt7JS  2009   -0.373882    0.445969   \n",
      "110666  zun6zAT2lpYejQiIaLI9HLv9PSQOXfS  2008    0.229377   -0.052210   \n",
      "110667  zuq8JKsuRS2qtZJq2fbuqtQ50Bx68tC  2011   -0.489647   -0.846349   \n",
      "110668  zvm4tyLQiwSGwJEC/Sy59HTdbPRoRFW  2009   -1.024232    0.044645   \n",
      "110669  zw.ajkyaXNtTAidsAUiyomdFDQKEQva  2011   -0.006667    0.017792   \n",
      "110670  zwdA3alEbspIFogJ.qfvDoDGle7UJY.  2016    0.013263   -0.010268   \n",
      "110671  zxxnlGjke3RjdQLVbPROQKCGdrrPr4S  2008    0.228458   -0.146975   \n",
      "110672  zxy.zdSjh2kWKrehVoi/Mwnx6nDJ9JG  2008    2.385759    0.132583   \n",
      "110673  zyIOUKLWuXI52PW9Kaa7pJ6bppvPxae  2016    0.616298    0.172940   \n",
      "110674  zyo9FVy8TpU.FMCsA7UbLJk8n7mmk3a  2017    1.225263   -0.239445   \n",
      "110675  zyvdV7AJ1ElcjDrNj7wvOkHlv9qmHjG  2008   -0.005291   -0.008402   \n",
      "110676  zyx3EOMaTA1rCw7Vb839uWwUubkUbxO  2008   -0.018750    0.003474   \n",
      "110677  zyx3EOMaTA1rCw7Vb839uWwUubkUbxO  2009   -0.018750    0.003474   \n",
      "110678  zyx3EOMaTA1rCw7Vb839uWwUubkUbxO  2014   -0.018750    0.003474   \n",
      "110679  zzdMhp4P2jJmFdhEj8iW6CQy0I7pErS  2012    0.504225    0.255512   \n",
      "110680  zzdMhp4P2jJmFdhEj8iW6CQy0I7pErS  2017   -0.145689   -0.827363   \n",
      "110681  zzdMhp4P2jJmFdhEj8iW6CQy0I7pErS  2018   -0.648293   -1.072368   \n",
      "\n",
      "        firm_emb_2  firm_emb_3  firm_emb_4  firm_emb_5  firm_emb_6  \\\n",
      "0        -0.000797   -0.007270   -0.006115   -0.013069   -0.004780   \n",
      "1         0.624097    3.766414    1.072685    0.014890    2.567723   \n",
      "2         0.986386    0.225564    1.074477   -0.194471   -0.173391   \n",
      "3         0.849789   -0.793828   -1.616021    0.791181   -3.793822   \n",
      "4         0.627279   -0.987010   -0.572736    0.123806    0.261030   \n",
      "5        -0.433925    0.543062    0.833423   -0.931697   -0.416245   \n",
      "6         2.912852    3.792529    1.108914    0.579471   -1.475889   \n",
      "7        -4.153673   -2.324550   -0.891201   -3.965483    2.410383   \n",
      "8         0.019889    0.005125   -0.016527    0.024577   -0.014114   \n",
      "9         1.943393   -0.259520    1.708246   -2.666381   -3.178199   \n",
      "10       -0.012134    0.008196    0.019302   -0.024990    0.024021   \n",
      "11       -0.012134    0.008196    0.019302   -0.024990    0.024021   \n",
      "12        2.079651    3.077425    0.922557    1.546659    0.777941   \n",
      "13       -0.004727   -0.004020   -0.009710   -0.008447    0.012032   \n",
      "14       -0.004727   -0.004020   -0.009710   -0.008447    0.012032   \n",
      "15        0.454349   -0.006176    1.170689   -0.284030   -1.160440   \n",
      "16        1.029685    1.170136    4.363482    1.007645    0.100993   \n",
      "17       -0.950104   -0.470551   -0.457551   -0.047779   -0.042866   \n",
      "18        0.020128    0.001474    0.002972   -0.017212    0.017731   \n",
      "19        0.011807   -0.023728    0.011592    0.020179    0.009873   \n",
      "20       -0.040353   -1.636889    0.755111   -1.177400   -0.099491   \n",
      "21       -0.001043   -0.011466    0.008300    0.007277   -0.024094   \n",
      "22       -0.012420    0.001403   -0.004896   -0.001298    0.023273   \n",
      "23        0.012236    0.004467   -0.019472    0.022352   -0.008202   \n",
      "24       -0.424682   -0.788342    1.505277   -1.944821   -3.828749   \n",
      "25       -0.514453   -0.593196    0.998626   -0.545358    1.073016   \n",
      "26       -0.853848   -1.328575   -0.815039    4.981889   -3.206571   \n",
      "27        0.094512   -0.406273    0.525563    1.223311   -1.878263   \n",
      "28       -1.528802   -0.563557    0.748843    0.205301   -1.182552   \n",
      "29        0.014527    0.004011   -0.014056    0.005988    0.007107   \n",
      "...            ...         ...         ...         ...         ...   \n",
      "110652    1.510227   -0.762505    0.022099   -0.077612    0.894209   \n",
      "110653   -0.245090   -0.505066   -0.087477   -0.135750    0.050417   \n",
      "110654    1.603386   -0.483894   -0.198958   -0.349582    0.653214   \n",
      "110655    0.126173   -0.127292   -0.217487   -0.418510   -0.485480   \n",
      "110656    0.193070   -0.285134   -0.253709    0.054348    0.037821   \n",
      "110657    0.305534   -0.509549    0.258392   -0.173388   -0.088462   \n",
      "110658    0.217300   -0.480459   -0.044410    0.401748    0.307284   \n",
      "110659   -0.277425   -0.190337   -0.136232   -0.283915   -0.212331   \n",
      "110660    0.080209   -0.665106   -0.158648    0.749816   -0.294216   \n",
      "110661   -0.295136   -0.803284   -0.790781    0.466967   -0.169692   \n",
      "110662    0.922313    0.459365    0.203041   -0.201384   -0.148671   \n",
      "110663    0.166543   -0.103913    0.176621    0.042005    0.100094   \n",
      "110664    0.001429   -0.121870   -0.055645   -0.037666   -0.073300   \n",
      "110665    0.518035    0.105680    0.425369    0.073013    0.215909   \n",
      "110666    0.216336    0.163108   -0.045383   -0.001511   -0.040862   \n",
      "110667    0.006125   -0.674858   -0.010436    0.653462   -1.268089   \n",
      "110668    0.039770   -0.369423   -0.037108   -0.085778   -0.343055   \n",
      "110669    0.007477   -0.021692   -0.020054   -0.006359    0.014600   \n",
      "110670    0.011667    0.012331    0.023982   -0.022336    0.000362   \n",
      "110671    0.934816    1.318483    0.197698   -0.583810    0.017116   \n",
      "110672   -0.540421    1.218294   -1.083355   -0.237284    1.062021   \n",
      "110673   -0.315056   -0.021850   -0.265926   -0.008383   -0.218407   \n",
      "110674    0.400304   -0.060068    0.157625   -0.285476   -0.506087   \n",
      "110675   -0.018512   -0.001748   -0.023495    0.015034    0.020227   \n",
      "110676   -0.014074    0.017076    0.020813   -0.015596   -0.008289   \n",
      "110677   -0.014074    0.017076    0.020813   -0.015596   -0.008289   \n",
      "110678   -0.014074    0.017076    0.020813   -0.015596   -0.008289   \n",
      "110679    0.032137   -0.453423   -1.736456    0.892170    0.753961   \n",
      "110680    0.324248   -1.283845    1.460020    0.627104   -0.764637   \n",
      "110681    0.009825   -0.257856   -0.651854   -1.352784    0.256810   \n",
      "\n",
      "        firm_emb_7     ...       firm_emb_10  firm_emb_11  firm_emb_12  \\\n",
      "0        -0.008156     ...         -0.001915     0.013870     0.003899   \n",
      "1         2.588547     ...         -0.989184    -0.703220     1.430224   \n",
      "2        -2.845875     ...         -0.225181     0.018783    -0.698894   \n",
      "3         3.359145     ...          3.917457    -0.907605    -2.652167   \n",
      "4        -0.766179     ...          0.243441     0.089621    -1.024856   \n",
      "5        -0.834718     ...          0.992656    -0.445292    -0.567568   \n",
      "6        -0.541943     ...         -1.798471    -1.587768    -2.709583   \n",
      "7        -0.899744     ...          0.372412    -3.952300    -2.592746   \n",
      "8        -0.010484     ...          0.004474    -0.005473     0.004451   \n",
      "9         1.442671     ...         -0.118356     2.236652     0.866914   \n",
      "10       -0.013214     ...         -0.014377     0.021926    -0.016773   \n",
      "11       -0.013214     ...         -0.014377     0.021926    -0.016773   \n",
      "12        0.096687     ...         -4.343538    -0.210455    -2.950934   \n",
      "13       -0.015458     ...         -0.012356    -0.017808     0.015982   \n",
      "14       -0.015458     ...         -0.012356    -0.017808     0.015982   \n",
      "15        1.159922     ...         -0.066511    -1.072144     0.292335   \n",
      "16       -0.752881     ...          0.558776    -0.362115    -0.827779   \n",
      "17       -0.913410     ...         -1.061477    -0.571154    -0.628592   \n",
      "18        0.008767     ...         -0.019410     0.012810     0.003568   \n",
      "19        0.006872     ...          0.004627    -0.000342    -0.014974   \n",
      "20       -1.473891     ...         -4.825490    -1.392271    -2.683516   \n",
      "21       -0.008552     ...          0.013698     0.023869     0.013759   \n",
      "22        0.019278     ...         -0.004664    -0.024034     0.016296   \n",
      "23       -0.013051     ...          0.009696     0.013644    -0.011530   \n",
      "24       -0.036435     ...          0.227392     0.575535     1.896815   \n",
      "25       -1.876732     ...         -0.876904    -0.054923    -1.045476   \n",
      "26        0.352405     ...         -1.630165    -0.813256     0.054092   \n",
      "27        0.804053     ...         -1.053326     3.189571    -1.025584   \n",
      "28       -0.664724     ...          0.486509    -0.296911    -0.826001   \n",
      "29       -0.014673     ...         -0.009308    -0.004672     0.017578   \n",
      "...            ...     ...               ...          ...          ...   \n",
      "110652   -0.496370     ...         -0.002375    -0.818888    -1.047976   \n",
      "110653   -0.379994     ...         -0.129312    -0.227289    -0.480609   \n",
      "110654   -0.403567     ...         -0.025355    -1.082179    -0.978524   \n",
      "110655   -0.376580     ...         -0.027314    -0.078067    -1.386600   \n",
      "110656   -0.203019     ...         -0.113826    -0.300532    -0.413584   \n",
      "110657   -0.163954     ...         -0.161448    -0.199155    -0.403371   \n",
      "110658   -0.052527     ...          0.247037     0.402332    -0.048241   \n",
      "110659   -0.282963     ...         -0.108754    -0.349973    -0.627909   \n",
      "110660    0.185485     ...          0.309568    -0.319039    -0.677376   \n",
      "110661   -0.670239     ...         -0.831795    -0.772509     0.002303   \n",
      "110662   -0.885671     ...         -0.142496     0.312212    -0.752081   \n",
      "110663   -0.438477     ...         -0.150695    -0.130057    -0.294411   \n",
      "110664   -0.016226     ...          0.060930     0.024368    -0.084368   \n",
      "110665   -0.778118     ...         -0.574620    -0.252517    -0.546637   \n",
      "110666   -0.076438     ...          0.069500    -0.222287    -0.094920   \n",
      "110667   -1.082232     ...          0.783156    -0.735456    -0.468646   \n",
      "110668   -0.918327     ...         -0.185190    -0.113183     0.084817   \n",
      "110669    0.009138     ...          0.011236    -0.011775     0.000194   \n",
      "110670   -0.016282     ...         -0.008358     0.005839    -0.016363   \n",
      "110671   -0.021196     ...         -0.178081    -0.933212    -0.537131   \n",
      "110672   -0.390147     ...         -0.320779     0.416936     0.571898   \n",
      "110673   -1.784781     ...         -0.500268     0.057845    -0.847157   \n",
      "110674    0.105775     ...         -0.084439    -0.231486    -0.416866   \n",
      "110675    0.003072     ...          0.015380    -0.006849    -0.013475   \n",
      "110676   -0.008735     ...         -0.019208    -0.024141    -0.012973   \n",
      "110677   -0.008735     ...         -0.019208    -0.024141    -0.012973   \n",
      "110678   -0.008735     ...         -0.019208    -0.024141    -0.012973   \n",
      "110679   -0.394442     ...         -0.346801     0.862788     0.524533   \n",
      "110680   -1.648377     ...          1.349237    -2.162913    -3.358833   \n",
      "110681   -0.340457     ...         -0.222465    -1.001052    -0.928466   \n",
      "\n",
      "        firm_emb_13  firm_emb_14  firm_emb_15  firm_emb_16  firm_emb_17  \\\n",
      "0         -0.008553     0.018355     0.011822    -0.018981    -0.004619   \n",
      "1         -1.083958    -1.233753     0.969938     1.624743     2.010272   \n",
      "2          0.891636     0.410211    -0.413716     0.102400    -0.518550   \n",
      "3         -1.316317     0.449506     0.081233    -3.648878    -0.907838   \n",
      "4         -0.336907     1.528343     1.099434     1.503637     0.583265   \n",
      "5          0.217144     0.275586     1.445395     0.999085     0.136302   \n",
      "6         -2.216845    -2.170676     2.866498    -0.834348     0.828958   \n",
      "7          0.293079    -2.049928     1.020684    -1.824419     1.247213   \n",
      "8          0.020306    -0.010619    -0.005387    -0.022776     0.019322   \n",
      "9          2.254858     0.009091     1.585329     1.814626    -2.511692   \n",
      "10         0.012786    -0.014826    -0.006287     0.013241    -0.004753   \n",
      "11         0.012786    -0.014826    -0.006287     0.013241    -0.004753   \n",
      "12        -3.989911    -1.149335    -0.220770     2.026015     1.995616   \n",
      "13        -0.023405    -0.014194    -0.003645     0.011467     0.024944   \n",
      "14        -0.023405    -0.014194    -0.003645     0.011467     0.024944   \n",
      "15        -0.007609    -0.590775    -0.806027     1.115356    -1.001800   \n",
      "16        -0.389168     0.543767     0.000908     0.896194    -1.062642   \n",
      "17        -0.423909    -0.346574    -0.040196     0.067154    -0.236398   \n",
      "18        -0.017571     0.017839     0.018184     0.014097    -0.020698   \n",
      "19        -0.001815     0.005710    -0.013934    -0.001473    -0.007057   \n",
      "20        -0.410552    -2.862174     0.388420     0.173602    -1.326484   \n",
      "21         0.020646    -0.000294    -0.019127     0.010963    -0.017533   \n",
      "22        -0.018769     0.008016     0.006281    -0.009111     0.024614   \n",
      "23        -0.012965     0.000384    -0.016679     0.014625     0.016230   \n",
      "24         0.448203    -1.305491    -0.051461    -1.340456    -0.088670   \n",
      "25         1.308968    -1.890957    -1.035366     0.254993     0.672149   \n",
      "26        -0.186264    -4.774045     0.118716     0.494240    -2.407736   \n",
      "27         3.382456    -1.555022     0.862405    -1.426193    -1.325778   \n",
      "28         0.353938     0.704212     0.213797    -0.522860    -1.145035   \n",
      "29         0.013254    -0.001370     0.010412    -0.002951     0.010061   \n",
      "...             ...          ...          ...          ...          ...   \n",
      "110652    -0.360624    -0.159334     0.346205    -0.395862    -0.154135   \n",
      "110653    -0.013872    -0.373837     0.133375    -0.328618    -0.072912   \n",
      "110654    -0.313634     0.405282     0.105386    -0.073817     0.166009   \n",
      "110655     1.449406    -0.127426    -0.464718     0.904948    -0.575903   \n",
      "110656    -0.132889    -0.247914     0.241857    -0.121419    -0.029674   \n",
      "110657    -0.095071    -0.125604     0.406786    -0.101742    -0.618772   \n",
      "110658     0.137917    -0.400781     0.434730     0.175943    -0.446052   \n",
      "110659    -0.008699    -0.297569     0.325657    -0.456092     0.017750   \n",
      "110660     0.324869    -0.030892     0.200846    -0.005014    -0.215243   \n",
      "110661     0.848964    -1.182661     0.861166     0.144398     0.198476   \n",
      "110662    -0.314616     0.255074    -0.184861     0.323676     0.203194   \n",
      "110663     0.021547    -0.221588    -0.027079    -0.073625    -0.123426   \n",
      "110664     0.146701    -0.211814     0.106600    -0.018912    -0.001026   \n",
      "110665     0.483346    -0.758480    -0.176349    -0.304778     1.371247   \n",
      "110666     0.019555     0.146566     0.074192    -0.021962     0.037327   \n",
      "110667     0.421239    -1.579365     0.733520    -0.706466    -0.293399   \n",
      "110668     0.949806    -0.434635    -0.087320    -0.236065     0.329897   \n",
      "110669    -0.010540     0.010452     0.023523     0.024596     0.003895   \n",
      "110670    -0.008717     0.003428    -0.008095    -0.005561    -0.022233   \n",
      "110671     0.404480     0.504131    -0.253424     0.646023    -0.193009   \n",
      "110672    -0.555689    -0.603043    -0.171091    -0.812563    -0.658319   \n",
      "110673     0.459386     0.121230     0.358055    -0.580749    -0.043085   \n",
      "110674     0.069601    -0.355221     0.888080    -0.506817    -0.418263   \n",
      "110675    -0.021479     0.001294    -0.007696    -0.018792     0.024412   \n",
      "110676     0.023381    -0.014219    -0.007630    -0.014756    -0.012715   \n",
      "110677     0.023381    -0.014219    -0.007630    -0.014756    -0.012715   \n",
      "110678     0.023381    -0.014219    -0.007630    -0.014756    -0.012715   \n",
      "110679     0.556775    -0.862059     1.960669    -0.811696     0.229807   \n",
      "110680    -1.344057    -0.434394    -0.739805    -1.112537    -1.391328   \n",
      "110681    -0.075751    -0.264934     0.380282     0.663129    -0.468321   \n",
      "\n",
      "        firm_emb_18  firm_emb_19  \n",
      "0          0.019827     0.015366  \n",
      "1          1.204439     1.713285  \n",
      "2         -2.153766     0.313114  \n",
      "3          1.987161     2.582514  \n",
      "4          0.445183    -1.651039  \n",
      "5          0.000599     0.734317  \n",
      "6          0.381071     0.576912  \n",
      "7         -1.515886     1.720580  \n",
      "8          0.015480     0.013909  \n",
      "9         -0.692458    -1.461322  \n",
      "10        -0.023238     0.018128  \n",
      "11        -0.023238     0.018128  \n",
      "12        -0.447439    -1.573178  \n",
      "13        -0.020674    -0.017032  \n",
      "14        -0.020674    -0.017032  \n",
      "15         0.983340    -1.232226  \n",
      "16        -2.388855    -3.921562  \n",
      "17         0.268290    -0.203093  \n",
      "18        -0.020420     0.005240  \n",
      "19         0.011032    -0.016123  \n",
      "20         1.201875    -0.231276  \n",
      "21        -0.011192     0.015593  \n",
      "22        -0.016978    -0.020218  \n",
      "23        -0.004377     0.001847  \n",
      "24         0.949374     0.519948  \n",
      "25         0.824285    -1.161869  \n",
      "26        -1.190843    -1.778163  \n",
      "27        -1.986427    -1.025309  \n",
      "28        -0.187155    -0.254870  \n",
      "29         0.013166     0.003669  \n",
      "...             ...          ...  \n",
      "110652     0.341636     1.081855  \n",
      "110653     0.246585    -0.307800  \n",
      "110654     0.673860     0.367906  \n",
      "110655     1.376607     0.938291  \n",
      "110656     0.127495    -0.082009  \n",
      "110657     0.485602     0.318404  \n",
      "110658     0.752032    -0.299225  \n",
      "110659    -0.034190    -0.280381  \n",
      "110660     0.641214     0.122156  \n",
      "110661    -0.491123     0.826181  \n",
      "110662     0.708805    -0.259328  \n",
      "110663     0.322951    -0.124148  \n",
      "110664     0.053838     0.022703  \n",
      "110665     0.777230    -0.681765  \n",
      "110666     0.456764     0.177400  \n",
      "110667     0.182046    -0.425333  \n",
      "110668     0.862005    -0.595114  \n",
      "110669    -0.010892     0.008621  \n",
      "110670    -0.024260     0.017960  \n",
      "110671     1.030378     0.814670  \n",
      "110672     1.085229    -0.597293  \n",
      "110673    -0.006638    -0.328821  \n",
      "110674     0.829491     0.529077  \n",
      "110675    -0.010866     0.021127  \n",
      "110676     0.006353     0.015506  \n",
      "110677     0.006353     0.015506  \n",
      "110678     0.006353     0.015506  \n",
      "110679     0.834264     0.488319  \n",
      "110680     1.333518    -0.808639  \n",
      "110681     0.494534     0.130549  \n",
      "\n",
      "[110682 rows x 22 columns]\n"
     ]
    }
   ],
   "source": [
    "print(embeddings)"
   ]
  },
  {
   "cell_type": "markdown",
   "metadata": {},
   "source": [
    "## Now merge embeddings with industry data"
   ]
  },
  {
   "cell_type": "code",
   "execution_count": 117,
   "metadata": {},
   "outputs": [
    {
     "name": "stdout",
     "output_type": "stream",
     "text": [
      "20\n",
      "20\n",
      "Index(['name', 'Description', 'Code'], dtype='object')\n",
      "(37477, 3)\n"
     ]
    }
   ],
   "source": [
    "firm_ids = metadata[['name','skdl1']]\n",
    "firm_ids.columns = ['name','Code']\n",
    "descriptive_labels = firm_ids.merge(skds,on='Code')[['name','Description','Code']]\n",
    "print(len(np.unique(descriptive_labels.loc[:,'Description'])))\n",
    "print(len(np.unique(descriptive_labels.loc[:,'Code'])))\n",
    "print(descriptive_labels.columns)\n",
    "print(descriptive_labels.shape)"
   ]
  },
  {
   "cell_type": "code",
   "execution_count": 118,
   "metadata": {},
   "outputs": [
    {
     "name": "stderr",
     "output_type": "stream",
     "text": [
      "/lfs/trinity/0/brian/Anaconda/lib/python3.7/site-packages/ipykernel_launcher.py:4: SettingWithCopyWarning: \n",
      "A value is trying to be set on a copy of a slice from a DataFrame.\n",
      "Try using .loc[row_indexer,col_indexer] = value instead\n",
      "\n",
      "See the caveats in the documentation: http://pandas.pydata.org/pandas-docs/stable/indexing.html#indexing-view-versus-copy\n",
      "  after removing the cwd from sys.path.\n"
     ]
    }
   ],
   "source": [
    "# subset to the firms whose industries we know\n",
    "firm_identifiers_hasInd = all_firm_info[all_firm_info['names'].isin(companies_withMetaData)]\n",
    "metadata_of_int = metadata[['name','skdl1']]\n",
    "firm_identifiers_hasInd['name'] = firm_identifiers_hasInd['names']"
   ]
  },
  {
   "cell_type": "code",
   "execution_count": 120,
   "metadata": {},
   "outputs": [
    {
     "name": "stdout",
     "output_type": "stream",
     "text": [
      "(96633, 7)\n",
      "(96633, 9)\n"
     ]
    }
   ],
   "source": [
    "print(firm_identifiers_hasInd.shape)\n",
    "firm_inds = firm_identifiers_hasInd.merge(descriptive_labels,on='name')\n",
    "firm_inds = firm_inds.reset_index(drop=True)\n",
    "print(firm_inds.shape)"
   ]
  },
  {
   "cell_type": "code",
   "execution_count": 121,
   "metadata": {},
   "outputs": [
    {
     "name": "stdout",
     "output_type": "stream",
     "text": [
      "16\n"
     ]
    }
   ],
   "source": [
    "print(len(np.unique(firm_inds.Code)))"
   ]
  },
  {
   "cell_type": "code",
   "execution_count": 122,
   "metadata": {},
   "outputs": [
    {
     "name": "stdout",
     "output_type": "stream",
     "text": [
      "0        M\n",
      "1        M\n",
      "2        M\n",
      "3        M\n",
      "4        M\n",
      "5        M\n",
      "6        M\n",
      "7        M\n",
      "8        M\n",
      "9        G\n",
      "10       G\n",
      "11       G\n",
      "12       G\n",
      "13       F\n",
      "14       F\n",
      "15       F\n",
      "16       F\n",
      "17       F\n",
      "18       F\n",
      "19       F\n",
      "20       F\n",
      "21       F\n",
      "22       F\n",
      "23       F\n",
      "24       G\n",
      "25       G\n",
      "26       G\n",
      "27       G\n",
      "28       G\n",
      "29       L\n",
      "        ..\n",
      "96603    M\n",
      "96604    G\n",
      "96605    R\n",
      "96606    L\n",
      "96607    C\n",
      "96608    H\n",
      "96609    G\n",
      "96610    M\n",
      "96611    H\n",
      "96612    I\n",
      "96613    M\n",
      "96614    F\n",
      "96615    Q\n",
      "96616    H\n",
      "96617    F\n",
      "96618    R\n",
      "96619    G\n",
      "96620    N\n",
      "96621    C\n",
      "96622    C\n",
      "96623    M\n",
      "96624    M\n",
      "96625    G\n",
      "96626    F\n",
      "96627    M\n",
      "96628    G\n",
      "96629    C\n",
      "96630    G\n",
      "96631    H\n",
      "96632    M\n",
      "Name: Code, Length: 96633, dtype: object\n"
     ]
    }
   ],
   "source": [
    "translator = pd.DataFrame()\n",
    "translator['Code'] = np.unique(firm_inds.Code)\n",
    "translator['Code_numeric'] = translator.index.values\n",
    "print(firm_inds.Code)"
   ]
  },
  {
   "cell_type": "code",
   "execution_count": 123,
   "metadata": {},
   "outputs": [
    {
     "name": "stdout",
     "output_type": "stream",
     "text": [
      "(96633, 9)\n",
      "(96633, 10)\n"
     ]
    }
   ],
   "source": [
    "print(firm_inds.shape)\n",
    "firm_inds = firm_inds.merge(translator)\n",
    "print(firm_inds.shape)\n",
    "firm_inds.to_pickle('firm_inds_yearly')\n"
   ]
  },
  {
   "cell_type": "code",
   "execution_count": 93,
   "metadata": {},
   "outputs": [
    {
     "name": "stdout",
     "output_type": "stream",
     "text": [
      "[ 0  1  2  3  4  5  6  7  8  9 10 11 12 13 14 15]\n"
     ]
    }
   ],
   "source": [
    "print(np.unique(firm_inds['Code_numeric']))"
   ]
  },
  {
   "cell_type": "code",
   "execution_count": 13,
   "metadata": {},
   "outputs": [],
   "source": [
    "embeddings = pd.read_pickle('allGraph_embeddings_table_yearly.pkl') # data_final = pd.read_pickle(folder + '/data_withInd.pkl')\n"
   ]
  },
  {
   "cell_type": "code",
   "execution_count": 125,
   "metadata": {},
   "outputs": [
    {
     "name": "stdout",
     "output_type": "stream",
     "text": [
      "Index(['firm', 'in_deg', 'out_deg', 'clusters', 'centrals', 'year', 'name',\n",
      "       'Description', 'Code', 'Code_numeric'],\n",
      "      dtype='object')\n"
     ]
    }
   ],
   "source": [
    "firm_inds = firm_inds.rename(columns={'names': 'firm'})\n",
    "print(firm_inds.columns)"
   ]
  },
  {
   "cell_type": "code",
   "execution_count": null,
   "metadata": {},
   "outputs": [],
   "source": []
  },
  {
   "cell_type": "code",
   "execution_count": 126,
   "metadata": {},
   "outputs": [],
   "source": [
    "firms = firm_inds.drop('name',axis=1)\n",
    "final_data = firms.merge(embeddings,on=['firm','year'])\n",
    "\n"
   ]
  },
  {
   "cell_type": "code",
   "execution_count": 127,
   "metadata": {},
   "outputs": [
    {
     "name": "stdout",
     "output_type": "stream",
     "text": [
      "(96633, 29)\n"
     ]
    }
   ],
   "source": [
    "print(final_data.shape)"
   ]
  },
  {
   "cell_type": "code",
   "execution_count": 128,
   "metadata": {},
   "outputs": [],
   "source": [
    "final_data.to_pickle('final_classification_yearly.pkl')"
   ]
  },
  {
   "cell_type": "code",
   "execution_count": null,
   "metadata": {},
   "outputs": [],
   "source": []
  }
 ],
 "metadata": {
  "kernelspec": {
   "display_name": "Python 3",
   "language": "python",
   "name": "python3"
  },
  "language_info": {
   "codemirror_mode": {
    "name": "ipython",
    "version": 3
   },
   "file_extension": ".py",
   "mimetype": "text/x-python",
   "name": "python",
   "nbconvert_exporter": "python",
   "pygments_lexer": "ipython3",
   "version": "3.7.1"
  }
 },
 "nbformat": 4,
 "nbformat_minor": 2
}
